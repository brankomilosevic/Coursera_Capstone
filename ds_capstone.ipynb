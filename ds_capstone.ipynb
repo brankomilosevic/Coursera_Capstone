{
 "cells": [
  {
   "cell_type": "markdown",
   "metadata": {},
   "source": [
    "Hello\n",
    "This is the Jupiter notebook that would be used for my final assignment in IBM Data Science course series on Coursera.\n"
   ]
  },
  {
   "cell_type": "markdown",
   "metadata": {},
   "source": [
    "#Introduction \n",
    "##Credit Card Fraud detection\n",
    "The number of credit card owners is projected close to overpass 1 billion by 2022. To ensure security of credit card transactions, it is essential to monitor fraudulent activities. Credit card companies shall be able to recognize fraudulent credit card transactions so that customers are not charged for items that they did not purchase.\n",
    "A credit card dataset contains a mix of fraud as well as non-fraudulent transactions and the target is to predict if a given test transaction is fraudulent or not."
   ]
  },
  {
   "cell_type": "markdown",
   "metadata": {},
   "source": [
    "#Dataset\n",
    "The datasets contains transactions samples made by credit cards in September 2013 by European cardholders. This dataset presents transactions that occurred in several hours. The number of fraud transactions is 94.  Number of transactions in the sample overall is 30,000. The dataset is highly unbalanced, the positive class (frauds) account for 0.31% of all transactions.\n",
    "\n",
    "It contains only numerical input variables which are the result of a PCA (Principal Component Analysis) transformation.\n",
    "Due to confidentiality issues, most of the features in data set ar anNonimized (V1 ... V28).\n",
    "\n",
    "Features V1, V2, ... V28 are the principal components obtained with PCA; \n",
    "The only features which have not been transformed with PCA are Time and Amount. Feature Time contains the seconds elapsed between each transaction and the first transaction in the dataset. The feature Amount is the transaction Amount, this feature can be used for example-dependant cost-senstive learning. \n",
    "Feature Class is the response/dependant variable and it takes value 1 in case of FRAUD and 0 in case of NOT-FRAUD."
   ]
  },
  {
   "cell_type": "code",
   "execution_count": null,
   "metadata": {},
   "outputs": [],
   "source": []
  },
  {
   "cell_type": "code",
   "execution_count": null,
   "metadata": {},
   "outputs": [],
   "source": []
  },
  {
   "cell_type": "code",
   "execution_count": null,
   "metadata": {},
   "outputs": [],
   "source": []
  },
  {
   "cell_type": "code",
   "execution_count": null,
   "metadata": {},
   "outputs": [],
   "source": []
  },
  {
   "cell_type": "code",
   "execution_count": null,
   "metadata": {},
   "outputs": [],
   "source": []
  }
 ],
 "metadata": {
  "kernelspec": {
   "display_name": "Python",
   "language": "python",
   "name": "conda-env-python-py"
  },
  "language_info": {
   "codemirror_mode": {
    "name": "ipython",
    "version": 3
   },
   "file_extension": ".py",
   "mimetype": "text/x-python",
   "name": "python",
   "nbconvert_exporter": "python",
   "pygments_lexer": "ipython3",
   "version": "3.6.11"
  }
 },
 "nbformat": 4,
 "nbformat_minor": 4
}
